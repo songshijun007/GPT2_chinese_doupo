{
 "cells": [
  {
   "cell_type": "code",
   "execution_count": 18,
   "id": "4df72326",
   "metadata": {},
   "outputs": [],
   "source": [
    "import re\n",
    "import json"
   ]
  },
  {
   "cell_type": "code",
   "execution_count": 16,
   "id": "8a213ecf",
   "metadata": {},
   "outputs": [],
   "source": [
    "with open(\"train.txt\",\"r\", encoding=\"utf-8\") as f:\n",
    "    datas = f.readlines()"
   ]
  },
  {
   "cell_type": "code",
   "execution_count": 19,
   "id": "37318c35",
   "metadata": {},
   "outputs": [],
   "source": [
    "str_tmp = \"\"\"\"\"\"\n",
    "# old_name = None\n",
    "# new_name = \"第一章\"\n",
    "\n",
    "pattern = \"^(第.*?章) .*?\\\\n$\"\n",
    "\n",
    "json_chapter = {\"data\":[]}\n",
    "\n",
    "# for i in datas:\n",
    "#     rt = re.findall(pattern, i)\n",
    "\n",
    "#     if len(rt)>0:\n",
    "#         if old_name:\n",
    "#             with open(\"./data/{}.txt\".format(old_name), \"w\", encoding=\"utf-8\") as f:\n",
    "#                 f.write(str_tmp)\n",
    "                \n",
    "#             str_tmp = \"\"\"\"\"\"\n",
    "            \n",
    "#             list_chapter.append(old_name)\n",
    "#         else:\n",
    "#             pass\n",
    "#         old_name = new_name\n",
    "#         new_name = rt[0]\n",
    "#     else:\n",
    "#         str_tmp += i\n",
    "\n",
    "for i in datas:\n",
    "    rt = re.findall(pattern, i)\n",
    "    if len(rt)>0:\n",
    "        json_chapter[\"data\"].append(str_tmp)\n",
    "        str_tmp = \"\"\"\"\"\"\n",
    "    else:\n",
    "        str_tmp += i"
   ]
  },
  {
   "cell_type": "code",
   "execution_count": 24,
   "id": "d5bd0844",
   "metadata": {},
   "outputs": [],
   "source": [
    "with open(\"./data/tran.json\", \"w\", encoding=\"utf-8\") as f:\n",
    "    f.write(json.dumps(json_chapter, ensure_ascii=False))"
   ]
  },
  {
   "cell_type": "code",
   "execution_count": null,
   "id": "b4e68a08",
   "metadata": {},
   "outputs": [],
   "source": []
  }
 ],
 "metadata": {
  "kernelspec": {
   "display_name": "Python 3 (ipykernel)",
   "language": "python",
   "name": "python3"
  },
  "language_info": {
   "codemirror_mode": {
    "name": "ipython",
    "version": 3
   },
   "file_extension": ".py",
   "mimetype": "text/x-python",
   "name": "python",
   "nbconvert_exporter": "python",
   "pygments_lexer": "ipython3",
   "version": "3.9.12"
  }
 },
 "nbformat": 4,
 "nbformat_minor": 5
}
